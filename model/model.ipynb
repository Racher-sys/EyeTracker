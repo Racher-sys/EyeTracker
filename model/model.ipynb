{
 "cells": [
  {
   "cell_type": "markdown",
   "source": [
    "#### Read Data"
   ],
   "metadata": {
    "collapsed": false,
    "pycharm": {
     "name": "#%% md\n"
    }
   }
  },
  {
   "cell_type": "code",
   "execution_count": 218,
   "outputs": [],
   "source": [
    "import pandas as pd"
   ],
   "metadata": {
    "collapsed": false,
    "pycharm": {
     "name": "#%%\n"
    }
   }
  },
  {
   "cell_type": "code",
   "execution_count": 219,
   "outputs": [
    {
     "name": "stdout",
     "output_type": "stream",
     "text": [
      "              x            y  total_duration  max_duration  mean_duration  \\\n",
      "0    894.095444   782.442514             288           120      72.000000   \n",
      "1    459.302971   447.510785             336           176     112.000000   \n",
      "2    738.803208   462.982883            1088           300      98.909091   \n",
      "3    755.731015   480.825653             796           152      88.444444   \n",
      "4    777.708235  1047.649412              68            68      68.000000   \n",
      "..          ...          ...             ...           ...            ...   \n",
      "468  890.439091   710.865455              44            44      44.000000   \n",
      "469  607.585216   868.798534             116            64      58.000000   \n",
      "470  512.516897   915.002414             116           116     116.000000   \n",
      "471  751.626641   404.636768             140            48      46.666667   \n",
      "472  583.655676   615.892993             244           100      81.333333   \n",
      "\n",
      "     std_duration  count_fixation  number      filename  label  \n",
      "0       29.393877               4       0  img7/191.jpg      0  \n",
      "1       46.303348               3       1  img7/191.jpg      0  \n",
      "2       71.230043              11       2  img7/191.jpg      0  \n",
      "3       34.740662               9       3  img7/191.jpg      0  \n",
      "4        0.000000               1       4  img7/191.jpg      0  \n",
      "..            ...             ...     ...           ...    ...  \n",
      "468      0.000000               1       3  img7/830.jpg      0  \n",
      "469      6.000000               2       4  img7/830.jpg      0  \n",
      "470      0.000000               1       5  img7/830.jpg      0  \n",
      "471      1.885618               3       6  img7/830.jpg      0  \n",
      "472     18.571184               3       7  img7/830.jpg      1  \n",
      "\n",
      "[473 rows x 10 columns]\n"
     ]
    }
   ],
   "source": [
    "path = \"../test.xls\"\n",
    "data = pd.read_excel(path)\n",
    "print(data)"
   ],
   "metadata": {
    "collapsed": false,
    "pycharm": {
     "name": "#%%\n"
    }
   }
  },
  {
   "cell_type": "code",
   "execution_count": 220,
   "outputs": [],
   "source": [
    "feature = data[[\"total_duration\",\"max_duration\",\"mean_duration\", \"std_duration\", \"count_fixation\", \"number\"]].values\n",
    "label = data[\"label\"].values"
   ],
   "metadata": {
    "collapsed": false,
    "pycharm": {
     "name": "#%%\n"
    }
   }
  },
  {
   "cell_type": "markdown",
   "source": [
    "#### normalization and classification"
   ],
   "metadata": {
    "collapsed": false,
    "pycharm": {
     "name": "#%% md\n"
    }
   }
  },
  {
   "cell_type": "code",
   "execution_count": 221,
   "outputs": [],
   "source": [
    "from sklearn.preprocessing import normalize\n",
    "from sklearn.model_selection import train_test_split\n",
    "from sklearn.svm import LinearSVC\n",
    "from sklearn.metrics import accuracy_score,confusion_matrix"
   ],
   "metadata": {
    "collapsed": false,
    "pycharm": {
     "name": "#%%\n"
    }
   }
  },
  {
   "cell_type": "code",
   "execution_count": 232,
   "outputs": [],
   "source": [
    "feature = normalize(feature,axis=1)\n",
    "clf = LinearSVC(C=0.5,class_weight=\"balanced\",max_iter=30000)\n",
    "train_x,test_x,train_y,test_y = train_test_split(feature,label,test_size=0.1)\n",
    "clf.fit(train_x,train_y)\n",
    "tra_label = clf.predict(train_x)\n",
    "tes_label = clf.predict(test_x)"
   ],
   "metadata": {
    "collapsed": false,
    "pycharm": {
     "name": "#%%\n"
    }
   }
  },
  {
   "cell_type": "code",
   "execution_count": 233,
   "outputs": [
    {
     "name": "stdout",
     "output_type": "stream",
     "text": [
      "训练集精度： 0.6447058823529411\n",
      "测试集精度： 0.6041666666666666\n",
      "[[27  0]\n",
      " [19  2]]\n"
     ]
    }
   ],
   "source": [
    "print(\"训练集精度：\",accuracy_score(tra_label,train_y))\n",
    "print(\"测试集精度：\",accuracy_score(tes_label,test_y))\n",
    "print(confusion_matrix(tes_label,test_y))"
   ],
   "metadata": {
    "collapsed": false,
    "pycharm": {
     "name": "#%%\n"
    }
   }
  }
 ],
 "metadata": {
  "kernelspec": {
   "display_name": "Python 3",
   "language": "python",
   "name": "python3"
  },
  "language_info": {
   "codemirror_mode": {
    "name": "ipython",
    "version": 2
   },
   "file_extension": ".py",
   "mimetype": "text/x-python",
   "name": "python",
   "nbconvert_exporter": "python",
   "pygments_lexer": "ipython2",
   "version": "2.7.6"
  }
 },
 "nbformat": 4,
 "nbformat_minor": 0
}